{
 "cells": [
  {
   "cell_type": "code",
   "execution_count": 1,
   "metadata": {},
   "outputs": [],
   "source": [
    "import pandas as pd\n",
    "import numpy as np"
   ]
  },
  {
   "cell_type": "code",
   "execution_count": 2,
   "metadata": {},
   "outputs": [],
   "source": [
    "rename_country = {\n",
    "    \"Bolivia\":\"Bolivia (Plurinational State of)\", \n",
    "\"Congo, Dem. Rep.\":\"Democratic Republic of the Congo\",\n",
    "\"Congo, Rep.\":\"Congo\",\n",
    "\"Korea, Rep.\":\"Republic of Korea\",\n",
    "\"Korea, Dem. People's Rep.\":\"Democratic People's Republic of Korea\",\n",
    "\"Vietnam\":\"Viet Nam\",\n",
    "\"Venezuela, RB\":\"Venezuela (Bolivarian Republic of)\",\n",
    "\"Yemen, Rep.\":\"Yemen\",\n",
    "\"Gambia, The\":\"Gambia\",\n",
    "\"Egypt, Arab Rep.\":\"Egypt\",\n",
    "\"Kyrgyz Republic\":\"Kyrgyzstan\",\n",
    "\"Lao PDR\":\"Lao People's Democratic Republic\",\n",
    "\"Iran, Islamic Rep.\":\"Iran (Islamic Republic of)\",\n",
    "\"Micronesia, Fed. Sts.\":\"Micronesia (Federated States of)\",\n",
    "\"Moldova\":\"Republic of Moldova\",\n",
    "\"North Macedonia\":\"Republic of North Macedonia\",\n",
    "\"St. Kitts and Nevis\":\"Saint Kitts and Nevis\",\n",
    "\"St. Vincent and the Grenadines\":\"Saint Vincent and the Grenadines\",\n",
    "\"Tanzania\":\"United Republic of Tanzania\",\n",
    "\"Czech Republic\":\"Czechia\",\n",
    "\"Slovak Republic\":\"Slovakia\",\n",
    "\"West Bank and Gaza\":\"State of Palestine\",\n",
    "\"Bahamas, The\":\"Bahamas\",\n",
    "\"St. Lucia\":\"Saint Lucia\"\n",
    "}"
   ]
  },
  {
   "cell_type": "code",
   "execution_count": 3,
   "metadata": {},
   "outputs": [],
   "source": [
    "\n",
    "# life_expectancy = []\n",
    "# infant_mortality = []\n",
    "\n",
    "measure_list = [\"life_expectancy\",\"infant_mortality\"]\n",
    "\n",
    "for measure in measure_list:\n",
    "    country = []\n",
    "    year = []\n",
    "    countryyear = []\n",
    "    measurement= []\n",
    "    m_csv = \"../csv/14vaccine_data/\"+ measure+\".csv\"\n",
    "    m_data = pd.read_csv(m_csv)\n",
    "    m_df = pd.DataFrame(m_data)\n",
    "    m_df = m_df.replace(rename_country)\n",
    "    m_df = m_df.rename(columns = {\"Country Name\":\"country\"})\n",
    "    m_df = m_df[['country','1980', '1981', '1982', '1983', '1984', '1985', '1986', '1987',\n",
    "       '1988', '1989', '1990', '1991', '1992', '1993', '1994', '1995', '1996',\n",
    "       '1997', '1998', '1999', '2000', '2001', '2002', '2003', '2004', '2005',\n",
    "       '2006', '2007', '2008', '2009', '2010', '2011', '2012', '2013', '2014',\n",
    "       '2015', '2016', '2017']]\n",
    "    m_df = m_df.dropna(thresh= 6)\n",
    "    col_names = m_df.columns\n",
    "    for i in range(1, len(col_names)):\n",
    "        for j in range(m_df[\"country\"].count()):\n",
    "            country.append(m_df.iloc[j, 0])\n",
    "            year.append(col_names[i])\n",
    "            measurement.append(m_df.iloc[j,i])\n",
    "            countryyear.append(m_df.iloc[j, 0]+col_names[i])\n",
    "            \n",
    "    stack_df = pd.DataFrame(list(zip(countryyear,country, year, measurement)), columns = [\"countryyear\",\"Country\",\"Year\", \"Measurement\"])\n",
    "#     stack_df[\"countryyear\"] = (c+i for (c, i) in zip(stack_df[\"Country\"],stack_df[\"Year\"]))\n",
    "    if measure == \"life_expectancy\":\n",
    "        stack_df = stack_df.rename(columns = {\"Measurement\": \"Life_Expectancy\"})\n",
    "        life_exp_df = stack_df\n",
    "    else:\n",
    "        stack_df = stack_df.rename(columns = {\"Measurement\": \"Infant_Mortality\"})\n",
    "        inf_mort_df = stack_df\n",
    "life_exp_df.head()\n",
    "\n",
    "life_inf_stack = pd.merge(life_exp_df, inf_mort_df, on = \"countryyear\")\n",
    "life_inf_stack = life_inf_stack.rename(columns = {\"Country_x\":\"Country\",\"Year_x\":\"Year\"})\n",
    "life_inf_stack = life_inf_stack[[\"Country\",\"Year\",\"Life_Expectancy\",\"Infant_Mortality\"]]\n",
    "life_inf_stack\n",
    "\n",
    "life_inf_stack.to_csv(\"../csv/clean_data/inf_mort_stack.csv\")"
   ]
  },
  {
   "cell_type": "code",
   "execution_count": null,
   "metadata": {},
   "outputs": [],
   "source": []
  },
  {
   "cell_type": "code",
   "execution_count": null,
   "metadata": {
    "scrolled": true
   },
   "outputs": [],
   "source": []
  }
 ],
 "metadata": {
  "kernelspec": {
   "display_name": "Python 3",
   "language": "python",
   "name": "python3"
  },
  "language_info": {
   "codemirror_mode": {
    "name": "ipython",
    "version": 3
   },
   "file_extension": ".py",
   "mimetype": "text/x-python",
   "name": "python",
   "nbconvert_exporter": "python",
   "pygments_lexer": "ipython3",
   "version": "3.7.3"
  }
 },
 "nbformat": 4,
 "nbformat_minor": 2
}
